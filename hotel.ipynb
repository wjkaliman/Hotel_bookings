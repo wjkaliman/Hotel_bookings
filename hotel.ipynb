{
 "cells": [
  {
   "cell_type": "markdown",
   "metadata": {},
   "source": [
    "This data set contains booking information for a city hotel and a resort hotel, and includes information such as when the booking was made, length of stay, the number of adults, children, and/or babies, and the number of available parking spaces, among other things.\n",
    "\n",
    "All personally identifying information has been removed from the data.\n",
    "\n",
    "Reference- https://www.kaggle.com/jessemostipak/hotel-booking-demand"
   ]
  },
  {
   "cell_type": "code",
   "execution_count": 1,
   "metadata": {
    "scrolled": true
   },
   "outputs": [],
   "source": [
    "import pandas as pd\n",
    "import numpy as np\n",
    "import yaml\n",
    "import json\n",
    "import os\n",
    "import pymongo\n",
    "from pymongo import MongoClient"
   ]
  },
  {
   "cell_type": "code",
   "execution_count": 3,
   "metadata": {
    "scrolled": true
   },
   "outputs": [
    {
     "output_type": "execute_result",
     "data": {
      "text/plain": "               hotel  is_canceled  lead_time  arrival_date_year  \\\n0       Resort Hotel            0        342               2015   \n1       Resort Hotel            0        737               2015   \n2       Resort Hotel            0          7               2015   \n3       Resort Hotel            0         13               2015   \n4       Resort Hotel            0         14               2015   \n...              ...          ...        ...                ...   \n119385    City Hotel            0         23               2017   \n119386    City Hotel            0        102               2017   \n119387    City Hotel            0         34               2017   \n119388    City Hotel            0        109               2017   \n119389    City Hotel            0        205               2017   \n\n       arrival_date_month  arrival_date_week_number  \\\n0                    July                        27   \n1                    July                        27   \n2                    July                        27   \n3                    July                        27   \n4                    July                        27   \n...                   ...                       ...   \n119385             August                        35   \n119386             August                        35   \n119387             August                        35   \n119388             August                        35   \n119389             August                        35   \n\n        arrival_date_day_of_month  stays_in_weekend_nights  \\\n0                               1                        0   \n1                               1                        0   \n2                               1                        0   \n3                               1                        0   \n4                               1                        0   \n...                           ...                      ...   \n119385                         30                        2   \n119386                         31                        2   \n119387                         31                        2   \n119388                         31                        2   \n119389                         29                        2   \n\n        stays_in_week_nights  adults  ...  deposit_type  agent company  \\\n0                          0       2  ...    No Deposit    NaN     NaN   \n1                          0       2  ...    No Deposit    NaN     NaN   \n2                          1       1  ...    No Deposit    NaN     NaN   \n3                          1       1  ...    No Deposit  304.0     NaN   \n4                          2       2  ...    No Deposit  240.0     NaN   \n...                      ...     ...  ...           ...    ...     ...   \n119385                     5       2  ...    No Deposit  394.0     NaN   \n119386                     5       3  ...    No Deposit    9.0     NaN   \n119387                     5       2  ...    No Deposit    9.0     NaN   \n119388                     5       2  ...    No Deposit   89.0     NaN   \n119389                     7       2  ...    No Deposit    9.0     NaN   \n\n       days_in_waiting_list customer_type     adr  \\\n0                         0     Transient    0.00   \n1                         0     Transient    0.00   \n2                         0     Transient   75.00   \n3                         0     Transient   75.00   \n4                         0     Transient   98.00   \n...                     ...           ...     ...   \n119385                    0     Transient   96.14   \n119386                    0     Transient  225.43   \n119387                    0     Transient  157.71   \n119388                    0     Transient  104.40   \n119389                    0     Transient  151.20   \n\n        required_car_parking_spaces  total_of_special_requests  \\\n0                                 0                          0   \n1                                 0                          0   \n2                                 0                          0   \n3                                 0                          0   \n4                                 0                          1   \n...                             ...                        ...   \n119385                            0                          0   \n119386                            0                          2   \n119387                            0                          4   \n119388                            0                          0   \n119389                            0                          2   \n\n        reservation_status reservation_status_date  \n0                Check-Out              2015-07-01  \n1                Check-Out              2015-07-01  \n2                Check-Out              2015-07-02  \n3                Check-Out              2015-07-02  \n4                Check-Out              2015-07-03  \n...                    ...                     ...  \n119385           Check-Out              2017-09-06  \n119386           Check-Out              2017-09-07  \n119387           Check-Out              2017-09-07  \n119388           Check-Out              2017-09-07  \n119389           Check-Out              2017-09-07  \n\n[119390 rows x 32 columns]",
      "text/html": "<div>\n<style scoped>\n    .dataframe tbody tr th:only-of-type {\n        vertical-align: middle;\n    }\n\n    .dataframe tbody tr th {\n        vertical-align: top;\n    }\n\n    .dataframe thead th {\n        text-align: right;\n    }\n</style>\n<table border=\"1\" class=\"dataframe\">\n  <thead>\n    <tr style=\"text-align: right;\">\n      <th></th>\n      <th>hotel</th>\n      <th>is_canceled</th>\n      <th>lead_time</th>\n      <th>arrival_date_year</th>\n      <th>arrival_date_month</th>\n      <th>arrival_date_week_number</th>\n      <th>arrival_date_day_of_month</th>\n      <th>stays_in_weekend_nights</th>\n      <th>stays_in_week_nights</th>\n      <th>adults</th>\n      <th>...</th>\n      <th>deposit_type</th>\n      <th>agent</th>\n      <th>company</th>\n      <th>days_in_waiting_list</th>\n      <th>customer_type</th>\n      <th>adr</th>\n      <th>required_car_parking_spaces</th>\n      <th>total_of_special_requests</th>\n      <th>reservation_status</th>\n      <th>reservation_status_date</th>\n    </tr>\n  </thead>\n  <tbody>\n    <tr>\n      <th>0</th>\n      <td>Resort Hotel</td>\n      <td>0</td>\n      <td>342</td>\n      <td>2015</td>\n      <td>July</td>\n      <td>27</td>\n      <td>1</td>\n      <td>0</td>\n      <td>0</td>\n      <td>2</td>\n      <td>...</td>\n      <td>No Deposit</td>\n      <td>NaN</td>\n      <td>NaN</td>\n      <td>0</td>\n      <td>Transient</td>\n      <td>0.00</td>\n      <td>0</td>\n      <td>0</td>\n      <td>Check-Out</td>\n      <td>2015-07-01</td>\n    </tr>\n    <tr>\n      <th>1</th>\n      <td>Resort Hotel</td>\n      <td>0</td>\n      <td>737</td>\n      <td>2015</td>\n      <td>July</td>\n      <td>27</td>\n      <td>1</td>\n      <td>0</td>\n      <td>0</td>\n      <td>2</td>\n      <td>...</td>\n      <td>No Deposit</td>\n      <td>NaN</td>\n      <td>NaN</td>\n      <td>0</td>\n      <td>Transient</td>\n      <td>0.00</td>\n      <td>0</td>\n      <td>0</td>\n      <td>Check-Out</td>\n      <td>2015-07-01</td>\n    </tr>\n    <tr>\n      <th>2</th>\n      <td>Resort Hotel</td>\n      <td>0</td>\n      <td>7</td>\n      <td>2015</td>\n      <td>July</td>\n      <td>27</td>\n      <td>1</td>\n      <td>0</td>\n      <td>1</td>\n      <td>1</td>\n      <td>...</td>\n      <td>No Deposit</td>\n      <td>NaN</td>\n      <td>NaN</td>\n      <td>0</td>\n      <td>Transient</td>\n      <td>75.00</td>\n      <td>0</td>\n      <td>0</td>\n      <td>Check-Out</td>\n      <td>2015-07-02</td>\n    </tr>\n    <tr>\n      <th>3</th>\n      <td>Resort Hotel</td>\n      <td>0</td>\n      <td>13</td>\n      <td>2015</td>\n      <td>July</td>\n      <td>27</td>\n      <td>1</td>\n      <td>0</td>\n      <td>1</td>\n      <td>1</td>\n      <td>...</td>\n      <td>No Deposit</td>\n      <td>304.0</td>\n      <td>NaN</td>\n      <td>0</td>\n      <td>Transient</td>\n      <td>75.00</td>\n      <td>0</td>\n      <td>0</td>\n      <td>Check-Out</td>\n      <td>2015-07-02</td>\n    </tr>\n    <tr>\n      <th>4</th>\n      <td>Resort Hotel</td>\n      <td>0</td>\n      <td>14</td>\n      <td>2015</td>\n      <td>July</td>\n      <td>27</td>\n      <td>1</td>\n      <td>0</td>\n      <td>2</td>\n      <td>2</td>\n      <td>...</td>\n      <td>No Deposit</td>\n      <td>240.0</td>\n      <td>NaN</td>\n      <td>0</td>\n      <td>Transient</td>\n      <td>98.00</td>\n      <td>0</td>\n      <td>1</td>\n      <td>Check-Out</td>\n      <td>2015-07-03</td>\n    </tr>\n    <tr>\n      <th>...</th>\n      <td>...</td>\n      <td>...</td>\n      <td>...</td>\n      <td>...</td>\n      <td>...</td>\n      <td>...</td>\n      <td>...</td>\n      <td>...</td>\n      <td>...</td>\n      <td>...</td>\n      <td>...</td>\n      <td>...</td>\n      <td>...</td>\n      <td>...</td>\n      <td>...</td>\n      <td>...</td>\n      <td>...</td>\n      <td>...</td>\n      <td>...</td>\n      <td>...</td>\n      <td>...</td>\n    </tr>\n    <tr>\n      <th>119385</th>\n      <td>City Hotel</td>\n      <td>0</td>\n      <td>23</td>\n      <td>2017</td>\n      <td>August</td>\n      <td>35</td>\n      <td>30</td>\n      <td>2</td>\n      <td>5</td>\n      <td>2</td>\n      <td>...</td>\n      <td>No Deposit</td>\n      <td>394.0</td>\n      <td>NaN</td>\n      <td>0</td>\n      <td>Transient</td>\n      <td>96.14</td>\n      <td>0</td>\n      <td>0</td>\n      <td>Check-Out</td>\n      <td>2017-09-06</td>\n    </tr>\n    <tr>\n      <th>119386</th>\n      <td>City Hotel</td>\n      <td>0</td>\n      <td>102</td>\n      <td>2017</td>\n      <td>August</td>\n      <td>35</td>\n      <td>31</td>\n      <td>2</td>\n      <td>5</td>\n      <td>3</td>\n      <td>...</td>\n      <td>No Deposit</td>\n      <td>9.0</td>\n      <td>NaN</td>\n      <td>0</td>\n      <td>Transient</td>\n      <td>225.43</td>\n      <td>0</td>\n      <td>2</td>\n      <td>Check-Out</td>\n      <td>2017-09-07</td>\n    </tr>\n    <tr>\n      <th>119387</th>\n      <td>City Hotel</td>\n      <td>0</td>\n      <td>34</td>\n      <td>2017</td>\n      <td>August</td>\n      <td>35</td>\n      <td>31</td>\n      <td>2</td>\n      <td>5</td>\n      <td>2</td>\n      <td>...</td>\n      <td>No Deposit</td>\n      <td>9.0</td>\n      <td>NaN</td>\n      <td>0</td>\n      <td>Transient</td>\n      <td>157.71</td>\n      <td>0</td>\n      <td>4</td>\n      <td>Check-Out</td>\n      <td>2017-09-07</td>\n    </tr>\n    <tr>\n      <th>119388</th>\n      <td>City Hotel</td>\n      <td>0</td>\n      <td>109</td>\n      <td>2017</td>\n      <td>August</td>\n      <td>35</td>\n      <td>31</td>\n      <td>2</td>\n      <td>5</td>\n      <td>2</td>\n      <td>...</td>\n      <td>No Deposit</td>\n      <td>89.0</td>\n      <td>NaN</td>\n      <td>0</td>\n      <td>Transient</td>\n      <td>104.40</td>\n      <td>0</td>\n      <td>0</td>\n      <td>Check-Out</td>\n      <td>2017-09-07</td>\n    </tr>\n    <tr>\n      <th>119389</th>\n      <td>City Hotel</td>\n      <td>0</td>\n      <td>205</td>\n      <td>2017</td>\n      <td>August</td>\n      <td>35</td>\n      <td>29</td>\n      <td>2</td>\n      <td>7</td>\n      <td>2</td>\n      <td>...</td>\n      <td>No Deposit</td>\n      <td>9.0</td>\n      <td>NaN</td>\n      <td>0</td>\n      <td>Transient</td>\n      <td>151.20</td>\n      <td>0</td>\n      <td>2</td>\n      <td>Check-Out</td>\n      <td>2017-09-07</td>\n    </tr>\n  </tbody>\n</table>\n<p>119390 rows × 32 columns</p>\n</div>"
     },
     "metadata": {},
     "execution_count": 3
    }
   ],
   "source": [
    "hb = pd.read_csv(\"resources/hotel_bookings.csv\")\n",
    "hb"
   ]
  },
  {
   "cell_type": "code",
   "execution_count": 4,
   "metadata": {
    "scrolled": true
   },
   "outputs": [
    {
     "output_type": "execute_result",
     "data": {
      "text/plain": "['hotel',\n 'is_canceled',\n 'lead_time',\n 'arrival_date_year',\n 'arrival_date_month',\n 'arrival_date_week_number',\n 'arrival_date_day_of_month',\n 'stays_in_weekend_nights',\n 'stays_in_week_nights',\n 'adults',\n 'children',\n 'babies',\n 'meal',\n 'country',\n 'market_segment',\n 'distribution_channel',\n 'is_repeated_guest',\n 'previous_cancellations',\n 'previous_bookings_not_canceled',\n 'reserved_room_type',\n 'assigned_room_type',\n 'booking_changes',\n 'deposit_type',\n 'agent',\n 'company',\n 'days_in_waiting_list',\n 'customer_type',\n 'adr',\n 'required_car_parking_spaces',\n 'total_of_special_requests',\n 'reservation_status',\n 'reservation_status_date']"
     },
     "metadata": {},
     "execution_count": 4
    }
   ],
   "source": [
    "list(hb.columns)\n"
   ]
  },
  {
   "cell_type": "code",
   "execution_count": null,
   "metadata": {},
   "outputs": [],
   "source": [
    "hb.to_csv(\"resources/hb.csv\", index=True)"
   ]
  },
  {
   "cell_type": "code",
   "execution_count": 5,
   "metadata": {
    "scrolled": true
   },
   "outputs": [
    {
     "output_type": "execute_result",
     "data": {
      "text/plain": "   is_canceled  lead_time  arrival_date_week_number  stays_in_weekend_nights  \\\n0            0        342                        27                        0   \n1            0        737                        27                        0   \n2            0          7                        27                        0   \n3            0         13                        27                        0   \n4            0         14                        27                        0   \n\n  country  \n0     PRT  \n1     PRT  \n2     GBR  \n3     GBR  \n4     GBR  ",
      "text/html": "<div>\n<style scoped>\n    .dataframe tbody tr th:only-of-type {\n        vertical-align: middle;\n    }\n\n    .dataframe tbody tr th {\n        vertical-align: top;\n    }\n\n    .dataframe thead th {\n        text-align: right;\n    }\n</style>\n<table border=\"1\" class=\"dataframe\">\n  <thead>\n    <tr style=\"text-align: right;\">\n      <th></th>\n      <th>is_canceled</th>\n      <th>lead_time</th>\n      <th>arrival_date_week_number</th>\n      <th>stays_in_weekend_nights</th>\n      <th>country</th>\n    </tr>\n  </thead>\n  <tbody>\n    <tr>\n      <th>0</th>\n      <td>0</td>\n      <td>342</td>\n      <td>27</td>\n      <td>0</td>\n      <td>PRT</td>\n    </tr>\n    <tr>\n      <th>1</th>\n      <td>0</td>\n      <td>737</td>\n      <td>27</td>\n      <td>0</td>\n      <td>PRT</td>\n    </tr>\n    <tr>\n      <th>2</th>\n      <td>0</td>\n      <td>7</td>\n      <td>27</td>\n      <td>0</td>\n      <td>GBR</td>\n    </tr>\n    <tr>\n      <th>3</th>\n      <td>0</td>\n      <td>13</td>\n      <td>27</td>\n      <td>0</td>\n      <td>GBR</td>\n    </tr>\n    <tr>\n      <th>4</th>\n      <td>0</td>\n      <td>14</td>\n      <td>27</td>\n      <td>0</td>\n      <td>GBR</td>\n    </tr>\n  </tbody>\n</table>\n</div>"
     },
     "metadata": {},
     "execution_count": 5
    }
   ],
   "source": [
    "#hb.corr()\n",
    "reduced_hb = hb[[\"is_canceled\", \"lead_time\", \"arrival_date_week_number\", \"stays_in_weekend_nights\", \"country\"]]\n",
    "reduced_hb.head()"
   ]
  },
  {
   "cell_type": "code",
   "execution_count": 6,
   "metadata": {},
   "outputs": [],
   "source": [
    "reduced_hb.to_csv(\"resources/reduced_hb.csv\", index=True)"
   ]
  },
  {
   "cell_type": "code",
   "execution_count": 7,
   "metadata": {
    "scrolled": true
   },
   "outputs": [],
   "source": [
    "data = reduced_hb.values\n",
    "x = data[:, 1:4]\n",
    "y = data[:, 0]"
   ]
  },
  {
   "cell_type": "code",
   "execution_count": 8,
   "metadata": {},
   "outputs": [
    {
     "output_type": "execute_result",
     "data": {
      "text/plain": "array([[342, 27, 0],\n       [737, 27, 0],\n       [7, 27, 0],\n       ...,\n       [34, 35, 2],\n       [109, 35, 2],\n       [205, 35, 2]], dtype=object)"
     },
     "metadata": {},
     "execution_count": 8
    }
   ],
   "source": [
    "x"
   ]
  },
  {
   "cell_type": "code",
   "execution_count": 9,
   "metadata": {},
   "outputs": [
    {
     "output_type": "execute_result",
     "data": {
      "text/plain": "array([0, 0, 0, ..., 0, 0, 0], dtype=object)"
     },
     "metadata": {},
     "execution_count": 9
    }
   ],
   "source": [
    "y"
   ]
  },
  {
   "cell_type": "code",
   "execution_count": 10,
   "metadata": {},
   "outputs": [],
   "source": [
    "from sklearn.preprocessing import LabelEncoder"
   ]
  },
  {
   "cell_type": "code",
   "execution_count": 11,
   "metadata": {
    "scrolled": true
   },
   "outputs": [],
   "source": [
    "label_encoder = LabelEncoder()\n",
    "label_encoder.fit(y)\n",
    "encoded_y = label_encoder.transform(y)"
   ]
  },
  {
   "cell_type": "code",
   "execution_count": 12,
   "metadata": {
    "scrolled": true,
    "tags": [
     "outputPrepend"
    ]
   },
   "outputs": [
    {
     "output_type": "stream",
     "name": "stdout",
     "text": "0\nEncoded Label: 0\n------------\nOriginal Class: 0\nEncoded Label: 0\n------------\nOriginal Class: 0\nEncoded Label: 0\n------------\nOriginal Class: 0\nEncoded Label: 0\n------------\nOriginal Class: 0\nEncoded Label: 0\n------------\nOriginal Class: 0\nEncoded Label: 0\n------------\nOriginal Class: 0\nEncoded Label: 0\n------------\nOriginal Class: 0\nEncoded Label: 0\n------------\nOriginal Class: 0\nEncoded Label: 0\n------------\nOriginal Class: 0\nEncoded Label: 0\n------------\nOriginal Class: 0\nEncoded Label: 0\n------------\nOriginal Class: 0\nEncoded Label: 0\n------------\nOriginal Class: 0\nEncoded Label: 0\n------------\nOriginal Class: 0\nEncoded Label: 0\n------------\nOriginal Class: 0\nEncoded Label: 0\n------------\nOriginal Class: 0\nEncoded Label: 0\n------------\nOriginal Class: 0\nEncoded Label: 0\n------------\nOriginal Class: 0\nEncoded Label: 0\n------------\nOriginal Class: 0\nEncoded Label: 0\n------------\nOriginal Class: 0\nEncoded Label: 0\n------------\nOriginal Class: 0\nEncoded Label: 0\n------------\nOriginal Class: 0\nEncoded Label: 0\n------------\nOriginal Class: 0\nEncoded Label: 0\n------------\nOriginal Class: 0\nEncoded Label: 0\n------------\nOriginal Class: 0\nEncoded Label: 0\n------------\nOriginal Class: 0\nEncoded Label: 0\n------------\nOriginal Class: 0\nEncoded Label: 0\n------------\nOriginal Class: 0\nEncoded Label: 0\n------------\nOriginal Class: 0\nEncoded Label: 0\n------------\nOriginal Class: 0\nEncoded Label: 0\n------------\nOriginal Class: 0\nEncoded Label: 0\n------------\nOriginal Class: 0\nEncoded Label: 0\n------------\nOriginal Class: 0\nEncoded Label: 0\n------------\nOriginal Class: 0\nEncoded Label: 0\n------------\nOriginal Class: 0\nEncoded Label: 0\n------------\nOriginal Class: 0\nEncoded Label: 0\n------------\nOriginal Class: 0\nEncoded Label: 0\n------------\nOriginal Class: 0\nEncoded Label: 0\n------------\nOriginal Class: 0\nEncoded Label: 0\n------------\nOriginal Class: 0\nEncoded Label: 0\n------------\nOriginal Class: 0\nEncoded Label: 0\n------------\nOriginal Class: 0\nEncoded Label: 0\n------------\nOriginal Class: 0\nEncoded Label: 0\n------------\nOriginal Class: 0\nEncoded Label: 0\n------------\nOriginal Class: 0\nEncoded Label: 0\n------------\nOriginal Class: 0\nEncoded Label: 0\n------------\nOriginal Class: 0\nEncoded Label: 0\n------------\nOriginal Class: 0\nEncoded Label: 0\n------------\nOriginal Class: 0\nEncoded Label: 0\n------------\nOriginal Class: 0\nEncoded Label: 0\n------------\nOriginal Class: 0\nEncoded Label: 0\n------------\nOriginal Class: 0\nEncoded Label: 0\n------------\nOriginal Class: 0\nEncoded Label: 0\n------------\nOriginal Class: 0\nEncoded Label: 0\n------------\nOriginal Class: 0\nEncoded Label: 0\n------------\nOriginal Class: 0\nEncoded Label: 0\n------------\nOriginal Class: 0\nEncoded Label: 0\n------------\nOriginal Class: 0\nEncoded Label: 0\n------------\nOriginal Class: 0\nEncoded Label: 0\n------------\nOriginal Class: 0\nEncoded Label: 0\n------------\nOriginal Class: 0\nEncoded Label: 0\n------------\nOriginal Class: 0\nEncoded Label: 0\n------------\nOriginal Class: 0\nEncoded Label: 0\n------------\nOriginal Class: 0\nEncoded Label: 0\n------------\nOriginal Class: 0\nEncoded Label: 0\n------------\nOriginal Class: 0\nEncoded Label: 0\n------------\nOriginal Class: 0\nEncoded Label: 0\n------------\nOriginal Class: 0\nEncoded Label: 0\n------------\nOriginal Class: 0\nEncoded Label: 0\n------------\nOriginal Class: 0\nEncoded Label: 0\n------------\nOriginal Class: 0\nEncoded Label: 0\n------------\nOriginal Class: 0\nEncoded Label: 0\n------------\nOriginal Class: 0\nEncoded Label: 0\n------------\nOriginal Class: 0\nEncoded Label: 0\n------------\nOriginal Class: 0\nEncoded Label: 0\n------------\nOriginal Class: 0\nEncoded Label: 0\n------------\nOriginal Class: 0\nEncoded Label: 0\n------------\nOriginal Class: 0\nEncoded Label: 0\n------------\nOriginal Class: 0\nEncoded Label: 0\n------------\nOriginal Class: 0\nEncoded Label: 0\n------------\nOriginal Class: 0\nEncoded Label: 0\n------------\nOriginal Class: 0\nEncoded Label: 0\n------------\nOriginal Class: 0\nEncoded Label: 0\n------------\nOriginal Class: 0\nEncoded Label: 0\n------------\nOriginal Class: 0\nEncoded Label: 0\n------------\nOriginal Class: 0\nEncoded Label: 0\n------------\nOriginal Class: 0\nEncoded Label: 0\n------------\nOriginal Class: 0\nEncoded Label: 0\n------------\nOriginal Class: 0\nEncoded Label: 0\n------------\nOriginal Class: 0\nEncoded Label: 0\n------------\nOriginal Class: 0\nEncoded Label: 0\n------------\nOriginal Class: 0\nEncoded Label: 0\n------------\nOriginal Class: 0\nEncoded Label: 0\n------------\nOriginal Class: 0\nEncoded Label: 0\n------------\nOriginal Class: 0\nEncoded Label: 0\n------------\nOriginal Class: 0\nEncoded Label: 0\n------------\nOriginal Class: 0\nEncoded Label: 0\n------------\nOriginal Class: 0\nEncoded Label: 0\n------------\nOriginal Class: 0\nEncoded Label: 0\n------------\nOriginal Class: 0\nEncoded Label: 0\n------------\nOriginal Class: 0\nEncoded Label: 0\n------------\nOriginal Class: 0\nEncoded Label: 0\n------------\nOriginal Class: 0\nEncoded Label: 0\n------------\nOriginal Class: 0\nEncoded Label: 0\n------------\nOriginal Class: 0\nEncoded Label: 0\n------------\nOriginal Class: 0\nEncoded Label: 0\n------------\nOriginal Class: 0\nEncoded Label: 0\n------------\nOriginal Class: 0\nEncoded Label: 0\n------------\nOriginal Class: 0\nEncoded Label: 0\n------------\nOriginal Class: 0\nEncoded Label: 0\n------------\nOriginal Class: 0\nEncoded Label: 0\n------------\nOriginal Class: 0\nEncoded Label: 0\n------------\nOriginal Class: 0\nEncoded Label: 0\n------------\nOriginal Class: 0\nEncoded Label: 0\n------------\nOriginal Class: 0\nEncoded Label: 0\n------------\nOriginal Class: 0\nEncoded Label: 0\n------------\nOriginal Class: 0\nEncoded Label: 0\n------------\nOriginal Class: 0\nEncoded Label: 0\n------------\nOriginal Class: 0\nEncoded Label: 0\n------------\nOriginal Class: 0\nEncoded Label: 0\n------------\nOriginal Class: 0\nEncoded Label: 0\n------------\nOriginal Class: 0\nEncoded Label: 0\n------------\nOriginal Class: 0\nEncoded Label: 0\n------------\nOriginal Class: 0\nEncoded Label: 0\n------------\nOriginal Class: 0\nEncoded Label: 0\n------------\nOriginal Class: 0\nEncoded Label: 0\n------------\nOriginal Class: 0\nEncoded Label: 0\n------------\nOriginal Class: 0\nEncoded Label: 0\n------------\nOriginal Class: 0\nEncoded Label: 0\n------------\nOriginal Class: 0\nEncoded Label: 0\n------------\nOriginal Class: 0\nEncoded Label: 0\n------------\nOriginal Class: 0\nEncoded Label: 0\n------------\nOriginal Class: 0\nEncoded Label: 0\n------------\nOriginal Class: 0\nEncoded Label: 0\n------------\nOriginal Class: 0\nEncoded Label: 0\n------------\nOriginal Class: 0\nEncoded Label: 0\n------------\nOriginal Class: 0\nEncoded Label: 0\n------------\nOriginal Class: 0\nEncoded Label: 0\n------------\nOriginal Class: 0\nEncoded Label: 0\n------------\nOriginal Class: 0\nEncoded Label: 0\n------------\nOriginal Class: 0\nEncoded Label: 0\n------------\nOriginal Class: 0\nEncoded Label: 0\n------------\nOriginal Class: 0\nEncoded Label: 0\n------------\nOriginal Class: 0\nEncoded Label: 0\n------------\nOriginal Class: 0\nEncoded Label: 0\n------------\nOriginal Class: 0\nEncoded Label: 0\n------------\nOriginal Class: 0\nEncoded Label: 0\n------------\nOriginal Class: 0\nEncoded Label: 0\n------------\nOriginal Class: 0\nEncoded Label: 0\n------------\nOriginal Class: 0\nEncoded Label: 0\n------------\nOriginal Class: 0\nEncoded Label: 0\n------------\nOriginal Class: 0\nEncoded Label: 0\n------------\nOriginal Class: 0\nEncoded Label: 0\n------------\nOriginal Class: 0\nEncoded Label: 0\n------------\nOriginal Class: 0\nEncoded Label: 0\n------------\nOriginal Class: 0\nEncoded Label: 0\n------------\nOriginal Class: 0\nEncoded Label: 0\n------------\nOriginal Class: 0\nEncoded Label: 0\n------------\nOriginal Class: 0\nEncoded Label: 0\n------------\nOriginal Class: 0\nEncoded Label: 0\n------------\nOriginal Class: 0\nEncoded Label: 0\n------------\nOriginal Class: 0\nEncoded Label: 0\n------------\nOriginal Class: 0\nEncoded Label: 0\n------------\nOriginal Class: 0\nEncoded Label: 0\n------------\nOriginal Class: 0\nEncoded Label: 0\n------------\nOriginal Class: 0\nEncoded Label: 0\n------------\nOriginal Class: 0\nEncoded Label: 0\n------------\nOriginal Class: 0\nEncoded Label: 0\n------------\nOriginal Class: 0\nEncoded Label: 0\n------------\nOriginal Class: 0\nEncoded Label: 0\n------------\nOriginal Class: 0\nEncoded Label: 0\n------------\nOriginal Class: 0\nEncoded Label: 0\n------------\nOriginal Class: 0\nEncoded Label: 0\n------------\nOriginal Class: 0\nEncoded Label: 0\n------------\nOriginal Class: 0\nEncoded Label: 0\n------------\nOriginal Class: 0\nEncoded Label: 0\n------------\nOriginal Class: 0\nEncoded Label: 0\n------------\nOriginal Class: 0\nEncoded Label: 0\n------------\nOriginal Class: 0\nEncoded Label: 0\n------------\nOriginal Class: 0\nEncoded Label: 0\n------------\nOriginal Class: 0\nEncoded Label: 0\n------------\nOriginal Class: 0\nEncoded Label: 0\n------------\nOriginal Class: 0\nEncoded Label: 0\n------------\nOriginal Class: 0\nEncoded Label: 0\n------------\nOriginal Class: 0\nEncoded Label: 0\n------------\nOriginal Class: 0\nEncoded Label: 0\n------------\nOriginal Class: 0\nEncoded Label: 0\n------------\nOriginal Class: 0\nEncoded Label: 0\n------------\nOriginal Class: 0\nEncoded Label: 0\n------------\nOriginal Class: 0\nEncoded Label: 0\n------------\nOriginal Class: 0\nEncoded Label: 0\n------------\nOriginal Class: 0\nEncoded Label: 0\n------------\nOriginal Class: 0\nEncoded Label: 0\n------------\nOriginal Class: 0\nEncoded Label: 0\n------------\nOriginal Class: 0\nEncoded Label: 0\n------------\nOriginal Class: 0\nEncoded Label: 0\n------------\nOriginal Class: 0\nEncoded Label: 0\n------------\nOriginal Class: 0\nEncoded Label: 0\n------------\nOriginal Class: 0\nEncoded Label: 0\n------------\nOriginal Class: 0\nEncoded Label: 0\n------------\nOriginal Class: 0\nEncoded Label: 0\n------------\nOriginal Class: 0\nEncoded Label: 0\n------------\nOriginal Class: 0\nEncoded Label: 0\n------------\nOriginal Class: 0\nEncoded Label: 0\n------------\nOriginal Class: 0\nEncoded Label: 0\n------------\nOriginal Class: 0\nEncoded Label: 0\n------------\nOriginal Class: 0\nEncoded Label: 0\n------------\nOriginal Class: 0\nEncoded Label: 0\n------------\nOriginal Class: 0\nEncoded Label: 0\n------------\nOriginal Class: 0\nEncoded Label: 0\n------------\nOriginal Class: 0\nEncoded Label: 0\n------------\nOriginal Class: 0\nEncoded Label: 0\n------------\nOriginal Class: 0\nEncoded Label: 0\n------------\nOriginal Class: 0\nEncoded Label: 0\n------------\nOriginal Class: 0\nEncoded Label: 0\n------------\nOriginal Class: 0\nEncoded Label: 0\n------------\nOriginal Class: 0\nEncoded Label: 0\n------------\nOriginal Class: 0\nEncoded Label: 0\n------------\nOriginal Class: 0\nEncoded Label: 0\n------------\nOriginal Class: 0\nEncoded Label: 0\n------------\nOriginal Class: 0\nEncoded Label: 0\n------------\nOriginal Class: 0\nEncoded Label: 0\n------------\nOriginal Class: 0\nEncoded Label: 0\n------------\nOriginal Class: 0\nEncoded Label: 0\n------------\nOriginal Class: 0\nEncoded Label: 0\n------------\nOriginal Class: 0\nEncoded Label: 0\n------------\nOriginal Class: 0\nEncoded Label: 0\n------------\nOriginal Class: 0\nEncoded Label: 0\n------------\nOriginal Class: 0\nEncoded Label: 0\n------------\nOriginal Class: 0\nEncoded Label: 0\n------------\nOriginal Class: 0\nEncoded Label: 0\n------------\nOriginal Class: 0\nEncoded Label: 0\n------------\nOriginal Class: 0\nEncoded Label: 0\n------------\nOriginal Class: 0\nEncoded Label: 0\n------------\nOriginal Class: 0\nEncoded Label: 0\n------------\nOriginal Class: 0\nEncoded Label: 0\n------------\nOriginal Class: 0\nEncoded Label: 0\n------------\nOriginal Class: 0\nEncoded Label: 0\n------------\nOriginal Class: 0\nEncoded Label: 0\n------------\nOriginal Class: 0\nEncoded Label: 0\n------------\nOriginal Class: 0\nEncoded Label: 0\n------------\nOriginal Class: 0\nEncoded Label: 0\n------------\nOriginal Class: 0\nEncoded Label: 0\n------------\nOriginal Class: 0\nEncoded Label: 0\n------------\nOriginal Class: 0\nEncoded Label: 0\n------------\nOriginal Class: 0\nEncoded Label: 0\n------------\nOriginal Class: 0\nEncoded Label: 0\n------------\nOriginal Class: 0\nEncoded Label: 0\n------------\nOriginal Class: 0\nEncoded Label: 0\n------------\nOriginal Class: 0\nEncoded Label: 0\n------------\nOriginal Class: 0\nEncoded Label: 0\n------------\nOriginal Class: 0\nEncoded Label: 0\n------------\nOriginal Class: 0\nEncoded Label: 0\n------------\nOriginal Class: 0\nEncoded Label: 0\n------------\nOriginal Class: 0\nEncoded Label: 0\n------------\nOriginal Class: 0\nEncoded Label: 0\n------------\nOriginal Class: 0\nEncoded Label: 0\n------------\nOriginal Class: 0\nEncoded Label: 0\n------------\nOriginal Class: 0\nEncoded Label: 0\n------------\nOriginal Class: 0\nEncoded Label: 0\n------------\nOriginal Class: 0\nEncoded Label: 0\n------------\nOriginal Class: 0\nEncoded Label: 0\n------------\nOriginal Class: 0\nEncoded Label: 0\n------------\nOriginal Class: 0\nEncoded Label: 0\n------------\nOriginal Class: 0\nEncoded Label: 0\n------------\nOriginal Class: 0\nEncoded Label: 0\n------------\nOriginal Class: 0\nEncoded Label: 0\n------------\nOriginal Class: 0\nEncoded Label: 0\n------------\nOriginal Class: 0\nEncoded Label: 0\n------------\nOriginal Class: 0\nEncoded Label: 0\n------------\nOriginal Class: 0\nEncoded Label: 0\n------------\nOriginal Class: 0\nEncoded Label: 0\n------------\nOriginal Class: 0\nEncoded Label: 0\n------------\nOriginal Class: 0\nEncoded Label: 0\n------------\nOriginal Class: 0\nEncoded Label: 0\n------------\nOriginal Class: 0\nEncoded Label: 0\n------------\nOriginal Class: 0\nEncoded Label: 0\n------------\nOriginal Class: 0\nEncoded Label: 0\n------------\nOriginal Class: 0\nEncoded Label: 0\n------------\nOriginal Class: 0\nEncoded Label: 0\n------------\nOriginal Class: 0\nEncoded Label: 0\n------------\nOriginal Class: 0\nEncoded Label: 0\n------------\nOriginal Class: 0\nEncoded Label: 0\n------------\nOriginal Class: 0\nEncoded Label: 0\n------------\nOriginal Class: 0\nEncoded Label: 0\n------------\nOriginal Class: 0\nEncoded Label: 0\n------------\nOriginal Class: 0\nEncoded Label: 0\n------------\nOriginal Class: 0\nEncoded Label: 0\n------------\nOriginal Class: 0\nEncoded Label: 0\n------------\nOriginal Class: 0\nEncoded Label: 0\n------------\nOriginal Class: 0\nEncoded Label: 0\n------------\nOriginal Class: 0\nEncoded Label: 0\n------------\nOriginal Class: 0\nEncoded Label: 0\n------------\nOriginal Class: 0\nEncoded Label: 0\n------------\nOriginal Class: 0\nEncoded Label: 0\n------------\nOriginal Class: 0\nEncoded Label: 0\n------------\nOriginal Class: 0\nEncoded Label: 0\n------------\nOriginal Class: 0\nEncoded Label: 0\n------------\nOriginal Class: 0\nEncoded Label: 0\n------------\nOriginal Class: 0\nEncoded Label: 0\n------------\nOriginal Class: 0\nEncoded Label: 0\n------------\nOriginal Class: 0\nEncoded Label: 0\n------------\nOriginal Class: 0\nEncoded Label: 0\n------------\nOriginal Class: 0\nEncoded Label: 0\n------------\nOriginal Class: 0\nEncoded Label: 0\n------------\nOriginal Class: 0\nEncoded Label: 0\n------------\nOriginal Class: 0\nEncoded Label: 0\n------------\nOriginal Class: 0\nEncoded Label: 0\n------------\nOriginal Class: 0\nEncoded Label: 0\n------------\nOriginal Class: 0\nEncoded Label: 0\n------------\nOriginal Class: 0\nEncoded Label: 0\n------------\nOriginal Class: 0\nEncoded Label: 0\n------------\nOriginal Class: 0\nEncoded Label: 0\n------------\nOriginal Class: 0\nEncoded Label: 0\n------------\nOriginal Class: 0\nEncoded Label: 0\n------------\nOriginal Class: 0\nEncoded Label: 0\n------------\nOriginal Class: 0\nEncoded Label: 0\n------------\nOriginal Class: 0\nEncoded Label: 0\n------------\nOriginal Class: 0\nEncoded Label: 0\n------------\nOriginal Class: 0\nEncoded Label: 0\n------------\nOriginal Class: 0\nEncoded Label: 0\n------------\nOriginal Class: 0\nEncoded Label: 0\n------------\nOriginal Class: 0\nEncoded Label: 0\n------------\nOriginal Class: 0\nEncoded Label: 0\n------------\nOriginal Class: 0\nEncoded Label: 0\n------------\nOriginal Class: 0\nEncoded Label: 0\n------------\nOriginal Class: 0\nEncoded Label: 0\n------------\nOriginal Class: 0\nEncoded Label: 0\n------------\nOriginal Class: 0\nEncoded Label: 0\n------------\nOriginal Class: 0\nEncoded Label: 0\n------------\nOriginal Class: 0\nEncoded Label: 0\n------------\nOriginal Class: 0\nEncoded Label: 0\n------------\nOriginal Class: 0\nEncoded Label: 0\n------------\nOriginal Class: 0\nEncoded Label: 0\n------------\nOriginal Class: 0\nEncoded Label: 0\n------------\nOriginal Class: 0\nEncoded Label: 0\n------------\nOriginal Class: 0\nEncoded Label: 0\n------------\nOriginal Class: 0\nEncoded Label: 0\n------------\nOriginal Class: 0\nEncoded Label: 0\n------------\nOriginal Class: 0\nEncoded Label: 0\n------------\nOriginal Class: 0\nEncoded Label: 0\n------------\nOriginal Class: 0\nEncoded Label: 0\n------------\nOriginal Class: 0\nEncoded Label: 0\n------------\nOriginal Class: 0\nEncoded Label: 0\n------------\nOriginal Class: 0\nEncoded Label: 0\n------------\nOriginal Class: 0\nEncoded Label: 0\n------------\nOriginal Class: 0\nEncoded Label: 0\n------------\nOriginal Class: 0\nEncoded Label: 0\n------------\nOriginal Class: 0\nEncoded Label: 0\n------------\nOriginal Class: 0\nEncoded Label: 0\n------------\nOriginal Class: 0\nEncoded Label: 0\n------------\nOriginal Class: 0\nEncoded Label: 0\n------------\nOriginal Class: 0\nEncoded Label: 0\n------------\nOriginal Class: 0\nEncoded Label: 0\n------------\nOriginal Class: 0\nEncoded Label: 0\n------------\nOriginal Class: 0\nEncoded Label: 0\n------------\nOriginal Class: 0\nEncoded Label: 0\n------------\nOriginal Class: 0\nEncoded Label: 0\n------------\nOriginal Class: 0\nEncoded Label: 0\n------------\nOriginal Class: 0\nEncoded Label: 0\n------------\nOriginal Class: 0\nEncoded Label: 0\n------------\nOriginal Class: 0\nEncoded Label: 0\n------------\nOriginal Class: 0\nEncoded Label: 0\n------------\nOriginal Class: 0\nEncoded Label: 0\n------------\nOriginal Class: 0\nEncoded Label: 0\n------------\nOriginal Class: 0\nEncoded Label: 0\n------------\nOriginal Class: 0\nEncoded Label: 0\n------------\nOriginal Class: 0\nEncoded Label: 0\n------------\nOriginal Class: 0\nEncoded Label: 0\n------------\nOriginal Class: 0\nEncoded Label: 0\n------------\nOriginal Class: 0\nEncoded Label: 0\n------------\nOriginal Class: 0\nEncoded Label: 0\n------------\nOriginal Class: 0\nEncoded Label: 0\n------------\nOriginal Class: 0\nEncoded Label: 0\n------------\nOriginal Class: 0\nEncoded Label: 0\n------------\nOriginal Class: 0\nEncoded Label: 0\n------------\nOriginal Class: 0\nEncoded Label: 0\n------------\nOriginal Class: 0\nEncoded Label: 0\n------------\nOriginal Class: 0\nEncoded Label: 0\n------------\nOriginal Class: 0\nEncoded Label: 0\n------------\nOriginal Class: 0\nEncoded Label: 0\n------------\nOriginal Class: 0\nEncoded Label: 0\n------------\nOriginal Class: 0\nEncoded Label: 0\n------------\nOriginal Class: 0\nEncoded Label: 0\n------------\nOriginal Class: 0\nEncoded Label: 0\n------------\nOriginal Class: 0\nEncoded Label: 0\n------------\nOriginal Class: 0\nEncoded Label: 0\n------------\nOriginal Class: 0\nEncoded Label: 0\n------------\nOriginal Class: 0\nEncoded Label: 0\n------------\nOriginal Class: 0\nEncoded Label: 0\n------------\nOriginal Class: 0\nEncoded Label: 0\n------------\nOriginal Class: 0\nEncoded Label: 0\n------------\nOriginal Class: 0\nEncoded Label: 0\n------------\nOriginal Class: 0\nEncoded Label: 0\n------------\nOriginal Class: 0\nEncoded Label: 0\n------------\nOriginal Class: 0\nEncoded Label: 0\n------------\nOriginal Class: 0\nEncoded Label: 0\n------------\nOriginal Class: 0\nEncoded Label: 0\n------------\nOriginal Class: 0\nEncoded Label: 0\n------------\nOriginal Class: 0\nEncoded Label: 0\n------------\nOriginal Class: 0\nEncoded Label: 0\n------------\nOriginal Class: 0\nEncoded Label: 0\n------------\nOriginal Class: 0\nEncoded Label: 0\n------------\nOriginal Class: 0\nEncoded Label: 0\n------------\nOriginal Class: 0\nEncoded Label: 0\n------------\nOriginal Class: 0\nEncoded Label: 0\n------------\nOriginal Class: 0\nEncoded Label: 0\n------------\nOriginal Class: 0\nEncoded Label: 0\n------------\nOriginal Class: 0\nEncoded Label: 0\n------------\nOriginal Class: 0\nEncoded Label: 0\n------------\nOriginal Class: 0\nEncoded Label: 0\n------------\nOriginal Class: 0\nEncoded Label: 0\n------------\nOriginal Class: 0\nEncoded Label: 0\n------------\nOriginal Class: 0\nEncoded Label: 0\n------------\nOriginal Class: 0\nEncoded Label: 0\n------------\nOriginal Class: 0\nEncoded Label: 0\n------------\nOriginal Class: 0\nEncoded Label: 0\n------------\n"
    }
   ],
   "source": [
    "for label, original_class in zip(encoded_y, y):\n",
    "    print('Original Class: ' + str(original_class))\n",
    "    print('Encoded Label: ' + str(label))\n",
    "    print('-' * 12)"
   ]
  },
  {
   "cell_type": "code",
   "execution_count": 13,
   "metadata": {},
   "outputs": [
    {
     "output_type": "execute_result",
     "data": {
      "text/plain": "array([[1., 0.],\n       [1., 0.],\n       [1., 0.],\n       ...,\n       [1., 0.],\n       [1., 0.],\n       [1., 0.]], dtype=float32)"
     },
     "metadata": {},
     "execution_count": 13
    }
   ],
   "source": [
    "from keras.utils import to_categorical\n",
    "\n",
    "# Step 2: One-hot encoding\n",
    "one_hot_y = to_categorical(encoded_y)\n",
    "one_hot_y"
   ]
  },
  {
   "cell_type": "code",
   "execution_count": 14,
   "metadata": {},
   "outputs": [],
   "source": [
    "from sklearn.model_selection import train_test_split\n",
    "\n",
    "X_train, X_test, y_train, y_test = train_test_split(x, y, random_state=1)"
   ]
  },
  {
   "cell_type": "code",
   "execution_count": 15,
   "metadata": {},
   "outputs": [
    {
     "output_type": "execute_result",
     "data": {
      "text/plain": "array([[175, 30, 1],\n       [72, 53, 2],\n       [16, 11, 14],\n       ...,\n       [50, 17, 2],\n       [0, 39, 0],\n       [120, 40, 0]], dtype=object)"
     },
     "metadata": {},
     "execution_count": 15
    }
   ],
   "source": [
    "X_train"
   ]
  },
  {
   "cell_type": "code",
   "execution_count": 16,
   "metadata": {},
   "outputs": [],
   "source": [
    "from sklearn.preprocessing import StandardScaler\n",
    "\n",
    "X_scaler = StandardScaler().fit(X_train)"
   ]
  },
  {
   "cell_type": "code",
   "execution_count": 17,
   "metadata": {},
   "outputs": [],
   "source": [
    "#scaling\n",
    "X_train_scaled = X_scaler.transform(X_train)\n",
    "X_test_scaled = X_scaler.transform(X_test)"
   ]
  },
  {
   "cell_type": "code",
   "execution_count": 18,
   "metadata": {},
   "outputs": [
    {
     "output_type": "execute_result",
     "data": {
      "text/plain": "array([[ 0.66552536,  0.20800091,  0.07239797],\n       [-0.29927082,  1.90054398,  1.07481939],\n       [-0.8238202 , -1.19018684, 13.10387637],\n       ...,\n       [-0.50534379, -0.74865387,  1.07481939],\n       [-0.97369145,  0.87030037, -0.93002344],\n       [ 0.15034294,  0.9438892 , -0.93002344]])"
     },
     "metadata": {},
     "execution_count": 18
    }
   ],
   "source": [
    "X_train_scaled"
   ]
  },
  {
   "source": [
    "One-hot encode the labels"
   ],
   "cell_type": "markdown",
   "metadata": {}
  },
  {
   "cell_type": "code",
   "execution_count": 19,
   "metadata": {},
   "outputs": [],
   "source": [
    "from tensorflow.keras.utils import to_categorical"
   ]
  },
  {
   "cell_type": "code",
   "execution_count": 20,
   "metadata": {},
   "outputs": [
    {
     "output_type": "execute_result",
     "data": {
      "text/plain": "array([[1., 0.],\n       [0., 1.],\n       [1., 0.],\n       ...,\n       [0., 1.],\n       [1., 0.],\n       [1., 0.]], dtype=float32)"
     },
     "metadata": {},
     "execution_count": 20
    }
   ],
   "source": [
    "y_train_categorical = to_categorical(y_train)\n",
    "y_test_categorical = to_categorical(y_test)\n",
    "y_train_categorical"
   ]
  },
  {
   "source": [
    "Defining our Model Architecture (the layers)\n",
    "We first need to create a sequential model"
   ],
   "cell_type": "markdown",
   "metadata": {}
  },
  {
   "cell_type": "code",
   "execution_count": 21,
   "metadata": {},
   "outputs": [],
   "source": [
    "from tensorflow.keras.models import Sequential\n",
    "\n",
    "model = Sequential()"
   ]
  },
  {
   "source": [
    "Next, we add our first layer. This layer requires you to specify both the number of inputs and the number of nodes that you want in the hidden layer."
   ],
   "cell_type": "markdown",
   "metadata": {}
  },
  {
   "cell_type": "code",
   "execution_count": 22,
   "metadata": {},
   "outputs": [],
   "source": [
    "from tensorflow.keras.layers import Dense\n",
    "number_inputs = 3\n",
    "number_hidden_nodes = 4\n",
    "model.add(Dense(units=number_hidden_nodes,\n",
    "                activation='relu', input_dim=number_inputs))"
   ]
  },
  {
   "cell_type": "code",
   "execution_count": 23,
   "metadata": {},
   "outputs": [],
   "source": [
    "number_classes = 2\n",
    "model.add(Dense(units=number_classes, activation='softmax'))"
   ]
  },
  {
   "cell_type": "code",
   "execution_count": null,
   "metadata": {
    "tags": []
   },
   "outputs": [],
   "source": [
    "model.summary()"
   ]
  },
  {
   "source": [
    "Compile the Model\n",
    "Now that we have our model architecture defined, we must compile the model using a loss function and optimizer. We can also specify additional training metrics such as accuracy."
   ],
   "cell_type": "markdown",
   "metadata": {}
  },
  {
   "cell_type": "code",
   "execution_count": 24,
   "metadata": {},
   "outputs": [],
   "source": [
    "# Use categorical crossentropy for categorical data and mean squared error for regression\n",
    "# Hint: your output layer in this example is using software for logistic regression (categorical)\n",
    "# If your output layer activation was `linear` then you may want to use `mse` for loss\n",
    "model.compile(optimizer='adam',\n",
    "              loss='categorical_crossentropy',\n",
    "              metrics=['accuracy'])"
   ]
  },
  {
   "source": [
    "Training the Model\n",
    "Finally, we train our model using our training data"
   ],
   "cell_type": "markdown",
   "metadata": {}
  },
  {
   "cell_type": "code",
   "execution_count": 25,
   "metadata": {
    "tags": []
   },
   "outputs": [
    {
     "output_type": "stream",
     "name": "stdout",
     "text": "Epoch 1/100\n2799/2799 - 1s - loss: 0.6165 - accuracy: 0.6639\nEpoch 2/100\n2799/2799 - 1s - loss: 0.6058 - accuracy: 0.6666\nEpoch 3/100\n2799/2799 - 1s - loss: 0.6032 - accuracy: 0.6663\nEpoch 4/100\n2799/2799 - 1s - loss: 0.6015 - accuracy: 0.6672\nEpoch 5/100\n2799/2799 - 1s - loss: 0.6002 - accuracy: 0.6683\nEpoch 6/100\n2799/2799 - 1s - loss: 0.5988 - accuracy: 0.6696\nEpoch 7/100\n2799/2799 - 1s - loss: 0.5977 - accuracy: 0.6697\nEpoch 8/100\n2799/2799 - 1s - loss: 0.5968 - accuracy: 0.6705\nEpoch 9/100\n2799/2799 - 1s - loss: 0.5964 - accuracy: 0.6706\nEpoch 10/100\n2799/2799 - 1s - loss: 0.5961 - accuracy: 0.6706\nEpoch 11/100\n2799/2799 - 1s - loss: 0.5959 - accuracy: 0.6701\nEpoch 12/100\n2799/2799 - 1s - loss: 0.5958 - accuracy: 0.6708\nEpoch 13/100\n2799/2799 - 1s - loss: 0.5955 - accuracy: 0.6709\nEpoch 14/100\n2799/2799 - 1s - loss: 0.5955 - accuracy: 0.6704\nEpoch 15/100\n2799/2799 - 1s - loss: 0.5955 - accuracy: 0.6709\nEpoch 16/100\n2799/2799 - 1s - loss: 0.5954 - accuracy: 0.6706\nEpoch 17/100\n2799/2799 - 1s - loss: 0.5954 - accuracy: 0.6696\nEpoch 18/100\n2799/2799 - 1s - loss: 0.5953 - accuracy: 0.6707\nEpoch 19/100\n2799/2799 - 1s - loss: 0.5954 - accuracy: 0.6706\nEpoch 20/100\n2799/2799 - 1s - loss: 0.5953 - accuracy: 0.6705\nEpoch 21/100\n2799/2799 - 1s - loss: 0.5954 - accuracy: 0.6699\nEpoch 22/100\n2799/2799 - 1s - loss: 0.5953 - accuracy: 0.6707\nEpoch 23/100\n2799/2799 - 1s - loss: 0.5953 - accuracy: 0.6696\nEpoch 24/100\n2799/2799 - 1s - loss: 0.5954 - accuracy: 0.6707\nEpoch 25/100\n2799/2799 - 1s - loss: 0.5953 - accuracy: 0.6697\nEpoch 26/100\n2799/2799 - 1s - loss: 0.5954 - accuracy: 0.6705\nEpoch 27/100\n2799/2799 - 1s - loss: 0.5953 - accuracy: 0.6707\nEpoch 28/100\n2799/2799 - 1s - loss: 0.5953 - accuracy: 0.6702\nEpoch 29/100\n2799/2799 - 1s - loss: 0.5953 - accuracy: 0.6703\nEpoch 30/100\n2799/2799 - 1s - loss: 0.5953 - accuracy: 0.6702\nEpoch 31/100\n2799/2799 - 1s - loss: 0.5953 - accuracy: 0.6704\nEpoch 32/100\n2799/2799 - 1s - loss: 0.5953 - accuracy: 0.6705\nEpoch 33/100\n2799/2799 - 1s - loss: 0.5953 - accuracy: 0.6703\nEpoch 34/100\n2799/2799 - 1s - loss: 0.5954 - accuracy: 0.6700\nEpoch 35/100\n2799/2799 - 1s - loss: 0.5953 - accuracy: 0.6700\nEpoch 36/100\n2799/2799 - 1s - loss: 0.5954 - accuracy: 0.6700\nEpoch 37/100\n2799/2799 - 1s - loss: 0.5954 - accuracy: 0.6702\nEpoch 38/100\n2799/2799 - 1s - loss: 0.5953 - accuracy: 0.6703\nEpoch 39/100\n2799/2799 - 1s - loss: 0.5954 - accuracy: 0.6704\nEpoch 40/100\n2799/2799 - 1s - loss: 0.5954 - accuracy: 0.6693\nEpoch 41/100\n2799/2799 - 1s - loss: 0.5953 - accuracy: 0.6697\nEpoch 42/100\n2799/2799 - 1s - loss: 0.5953 - accuracy: 0.6700\nEpoch 43/100\n2799/2799 - 1s - loss: 0.5953 - accuracy: 0.6700\nEpoch 44/100\n2799/2799 - 1s - loss: 0.5953 - accuracy: 0.6706\nEpoch 45/100\n2799/2799 - 1s - loss: 0.5953 - accuracy: 0.6704\nEpoch 46/100\n2799/2799 - 1s - loss: 0.5954 - accuracy: 0.6700\nEpoch 47/100\n2799/2799 - 1s - loss: 0.5953 - accuracy: 0.6703\nEpoch 48/100\n2799/2799 - 1s - loss: 0.5953 - accuracy: 0.6703\nEpoch 49/100\n2799/2799 - 1s - loss: 0.5954 - accuracy: 0.6699\nEpoch 50/100\n2799/2799 - 1s - loss: 0.5953 - accuracy: 0.6698\nEpoch 51/100\n2799/2799 - 1s - loss: 0.5953 - accuracy: 0.6696\nEpoch 52/100\n2799/2799 - 1s - loss: 0.5953 - accuracy: 0.6704\nEpoch 53/100\n2799/2799 - 1s - loss: 0.5954 - accuracy: 0.6703\nEpoch 54/100\n2799/2799 - 1s - loss: 0.5953 - accuracy: 0.6702\nEpoch 55/100\n2799/2799 - 1s - loss: 0.5953 - accuracy: 0.6696\nEpoch 56/100\n2799/2799 - 1s - loss: 0.5953 - accuracy: 0.6701\nEpoch 57/100\n2799/2799 - 1s - loss: 0.5953 - accuracy: 0.6695\nEpoch 58/100\n2799/2799 - 1s - loss: 0.5953 - accuracy: 0.6705\nEpoch 59/100\n2799/2799 - 1s - loss: 0.5953 - accuracy: 0.6695\nEpoch 60/100\n2799/2799 - 1s - loss: 0.5953 - accuracy: 0.6701\nEpoch 61/100\n2799/2799 - 1s - loss: 0.5953 - accuracy: 0.6703\nEpoch 62/100\n2799/2799 - 1s - loss: 0.5953 - accuracy: 0.6705\nEpoch 63/100\n2799/2799 - 1s - loss: 0.5952 - accuracy: 0.6704\nEpoch 64/100\n2799/2799 - 1s - loss: 0.5953 - accuracy: 0.6702\nEpoch 65/100\n2799/2799 - 1s - loss: 0.5952 - accuracy: 0.6705\nEpoch 66/100\n2799/2799 - 1s - loss: 0.5953 - accuracy: 0.6700\nEpoch 67/100\n2799/2799 - 1s - loss: 0.5953 - accuracy: 0.6702\nEpoch 68/100\n2799/2799 - 1s - loss: 0.5953 - accuracy: 0.6698\nEpoch 69/100\n2799/2799 - 1s - loss: 0.5952 - accuracy: 0.6702\nEpoch 70/100\n2799/2799 - 1s - loss: 0.5953 - accuracy: 0.6704\nEpoch 71/100\n2799/2799 - 1s - loss: 0.5954 - accuracy: 0.6700\nEpoch 72/100\n2799/2799 - 1s - loss: 0.5953 - accuracy: 0.6702\nEpoch 73/100\n2799/2799 - 1s - loss: 0.5953 - accuracy: 0.6706\nEpoch 74/100\n2799/2799 - 1s - loss: 0.5953 - accuracy: 0.6703\nEpoch 75/100\n2799/2799 - 1s - loss: 0.5954 - accuracy: 0.6700\nEpoch 76/100\n2799/2799 - 1s - loss: 0.5952 - accuracy: 0.6701\nEpoch 77/100\n2799/2799 - 1s - loss: 0.5952 - accuracy: 0.6704\nEpoch 78/100\n2799/2799 - 1s - loss: 0.5953 - accuracy: 0.6705\nEpoch 79/100\n2799/2799 - 1s - loss: 0.5953 - accuracy: 0.6706\nEpoch 80/100\n2799/2799 - 1s - loss: 0.5952 - accuracy: 0.6703\nEpoch 81/100\n2799/2799 - 1s - loss: 0.5952 - accuracy: 0.6699\nEpoch 82/100\n2799/2799 - 1s - loss: 0.5954 - accuracy: 0.6701\nEpoch 83/100\n2799/2799 - 1s - loss: 0.5953 - accuracy: 0.6704\nEpoch 84/100\n2799/2799 - 1s - loss: 0.5952 - accuracy: 0.6704\nEpoch 85/100\n2799/2799 - 1s - loss: 0.5953 - accuracy: 0.6704\nEpoch 86/100\n2799/2799 - 1s - loss: 0.5952 - accuracy: 0.6705\nEpoch 87/100\n2799/2799 - 1s - loss: 0.5954 - accuracy: 0.6695\nEpoch 88/100\n2799/2799 - 1s - loss: 0.5954 - accuracy: 0.6703\nEpoch 89/100\n2799/2799 - 1s - loss: 0.5953 - accuracy: 0.6698\nEpoch 90/100\n2799/2799 - 1s - loss: 0.5953 - accuracy: 0.6702\nEpoch 91/100\n2799/2799 - 1s - loss: 0.5953 - accuracy: 0.6696\nEpoch 92/100\n2799/2799 - 1s - loss: 0.5953 - accuracy: 0.6701\nEpoch 93/100\n2799/2799 - 1s - loss: 0.5953 - accuracy: 0.6703\nEpoch 94/100\n2799/2799 - 1s - loss: 0.5953 - accuracy: 0.6697\nEpoch 95/100\n2799/2799 - 1s - loss: 0.5953 - accuracy: 0.6702\nEpoch 96/100\n2799/2799 - 1s - loss: 0.5953 - accuracy: 0.6696\nEpoch 97/100\n2799/2799 - 1s - loss: 0.5953 - accuracy: 0.6706\nEpoch 98/100\n2799/2799 - 1s - loss: 0.5954 - accuracy: 0.6709\nEpoch 99/100\n2799/2799 - 1s - loss: 0.5952 - accuracy: 0.6699\nEpoch 100/100\n2799/2799 - 1s - loss: 0.5953 - accuracy: 0.6702\n"
    },
    {
     "output_type": "execute_result",
     "data": {
      "text/plain": "<tensorflow.python.keras.callbacks.History at 0x2e3a1d32ac0>"
     },
     "metadata": {},
     "execution_count": 25
    }
   ],
   "source": [
    "# Fit (train) the model\n",
    "model.fit(\n",
    "    X_train_scaled,\n",
    "    y_train_categorical,\n",
    "    epochs=100,\n",
    "    shuffle=True,\n",
    "    verbose=2\n",
    ")"
   ]
  },
  {
   "source": [
    "Quantifying the Model\n",
    "We use our testing data to validate our model. This is how we determine the validity of our model (i.e. the ability to predict new and previously unseen data points)"
   ],
   "cell_type": "markdown",
   "metadata": {}
  },
  {
   "cell_type": "code",
   "execution_count": 26,
   "metadata": {
    "tags": []
   },
   "outputs": [
    {
     "output_type": "stream",
     "name": "stdout",
     "text": "933/933 - 0s - loss: 0.5936 - accuracy: 0.6726\nLoss: 0.5935981869697571, Accuracy: 0.6726078987121582\n"
    }
   ],
   "source": [
    "# Evaluate the model using the testing data\n",
    "model_loss, model_accuracy = model.evaluate(\n",
    "    X_test_scaled, y_test_categorical, verbose=2)\n",
    "print(f\"Loss: {model_loss}, Accuracy: {model_accuracy}\")"
   ]
  },
  {
   "cell_type": "code",
   "execution_count": null,
   "metadata": {},
   "outputs": [],
   "source": []
  },
  {
   "source": [
    "Making Predictions with new data\n",
    "We can use our trained model to make predictions using model.predict"
   ],
   "cell_type": "markdown",
   "metadata": {}
  },
  {
   "cell_type": "code",
   "execution_count": 31,
   "metadata": {
    "tags": []
   },
   "outputs": [
    {
     "output_type": "stream",
     "name": "stdout",
     "text": "Predicted class: [0]\n"
    }
   ],
   "source": [
    "import numpy as np   # these are not the columns- values of the position of the rows\n",
    "\n",
    "#make a new prediction- lead= 33, weeknumber = 25, weekend days = 1\n",
    "new_data = np.array([[33, 25, 1]])\n",
    "# need to transform the data so model can predict\n",
    "new_data_scaled = X_scaler.transform(new_data)\n",
    "# this is our prediction\n",
    "print(f\"Predicted class: {model.predict_classes(new_data_scaled)}\")\n"
   ]
  },
  {
   "cell_type": "code",
   "execution_count": 32,
   "metadata": {},
   "outputs": [
    {
     "output_type": "execute_result",
     "data": {
      "text/plain": "array([1, 0, 1, 0, 0], dtype=int64)"
     },
     "metadata": {},
     "execution_count": 32
    }
   ],
   "source": [
    "# lets predict with test data. first 5 values- different data from above- new prediction\n",
    "predictions = model.predict_classes(X_test_scaled[:5])\n",
    "predictions"
   ]
  },
  {
   "cell_type": "code",
   "execution_count": 33,
   "metadata": {},
   "outputs": [
    {
     "output_type": "execute_result",
     "data": {
      "text/plain": "[array([1., 0.], dtype=float32),\n array([0., 1.], dtype=float32),\n array([1., 0.], dtype=float32),\n array([1., 0.], dtype=float32),\n array([1., 0.], dtype=float32)]"
     },
     "metadata": {},
     "execution_count": 33
    }
   ],
   "source": [
    "# this is the actuals from the y_trained data\n",
    "actuals = list(y_train_categorical[:5])\n",
    "actuals"
   ]
  },
  {
   "cell_type": "code",
   "execution_count": 30,
   "metadata": {},
   "outputs": [
    {
     "output_type": "execute_result",
     "data": {
      "text/plain": "array([[238, 37, 0],\n       [33, 25, 1],\n       [239, 42, 0],\n       [64, 39, 0],\n       [34, 41, 2]], dtype=object)"
     },
     "metadata": {},
     "execution_count": 30
    }
   ],
   "source": [
    "# first 5 line of x_test data- actual info\n",
    "\n",
    "X_test[:5]"
   ]
  },
  {
   "cell_type": "code",
   "execution_count": null,
   "metadata": {},
   "outputs": [],
   "source": [
    "model.save(\"resources/model.h5\")"
   ]
  },
  {
   "cell_type": "code",
   "execution_count": null,
   "metadata": {},
   "outputs": [],
   "source": []
  }
 ],
 "metadata": {
  "kernelspec": {
   "display_name": "Python 3",
   "language": "python",
   "name": "python3"
  },
  "language_info": {
   "codemirror_mode": {
    "name": "ipython",
    "version": 3
   },
   "file_extension": ".py",
   "mimetype": "text/x-python",
   "name": "python",
   "nbconvert_exporter": "python",
   "pygments_lexer": "ipython3",
   "version": "3.8.3-final"
  }
 },
 "nbformat": 4,
 "nbformat_minor": 2
}